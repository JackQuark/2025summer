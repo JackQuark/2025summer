{
 "cells": [
  {
   "cell_type": "code",
   "execution_count": null,
   "id": "61c1bedb",
   "metadata": {},
   "outputs": [
    {
     "name": "stdout",
     "output_type": "stream",
     "text": [
      "AttrDict({'Ts': Field([303.]), 'Tatm': Field([190.50136004, 212.64823517, 229.46079052, 242.24488888,\n",
      "       251.90863876, 259.35912838, 265.30087313, 270.20047675,\n",
      "       274.35554613, 277.95898973, 281.14002357, 283.98834603,\n",
      "       286.56829619, 288.92739476, 291.10164892, 293.11895174,\n",
      "       295.00132026, 296.76643138, 298.42869724, 300.        ])})\n"
     ]
    }
   ],
   "source": [
    "import numpy as np\n",
    "import matplotlib.pyplot as plt\n",
    "from metpy.calc import moist_lapse\n",
    "from metpy.units import units\n",
    "import climlab\n",
    "\n",
    "p = np.linspace(1000, 100, 20) * units.hPa\n",
    "T_sfc = 303 * units.K\n",
    "T_atm = moist_lapse(p, 300 * units.K)\n",
    "\n",
    "state = climlab.column_state(lev=p.magnitude, water_depth=1.0)\n",
    "\n",
    "state['Tatm'][:] = T_atm.magnitude.copy()[::-1]\n",
    "state['Ts'][:]   = T_sfc.magnitude\n",
    "\n",
    "p_lev  = state.Tatm.domain.lev.points\n",
    "T_lev  = state['Tatm'].base\n",
    "# RH = 80%\n",
    "qvs_lev = climlab.utils.thermo.qsat(T_lev, p_lev)\n",
    "qv_lev = qvs_lev * 0.8\n",
    "\n",
    "nlev = len(p_lev)\n",
    "# print(p_lev)\n",
    "# print(T_lev) \n",
    "# print(qv_lev) # <class 'numpy.ndarray'>\n",
    "print(state)"
   ]
  },
  {
   "cell_type": "code",
   "execution_count": null,
   "id": "9515e5e3",
   "metadata": {},
   "outputs": [],
   "source": [
    "rad_base = climlab.radiation.RRTMG(name='Rad_base',\n",
    "                                   state=state,\n",
    "                                   specific_humidity=qvs_lev,\n",
    "                                   albedo=0.3)\n",
    "\n",
    "rad_base.compute_diagnostics()\n",
    "LW_ref = rad_base.diagnostics['TdotLW'].copy()\n",
    "SW_ref = rad_base.diagnostics['TdotSW'].copy()\n",
    "\n",
    "kernel_LW = np.zeros((nlev, nlev))\n",
    "kernel_SW = np.zeros((nlev, nlev))\n",
    "\n",
    "delta_T = 1. # [K]\n",
    "state_pert = \n",
    "for k in range(nlev):\n",
    "    # Temp perturbation at k lev\n",
    "    \n",
    "\n",
    "    # Fresh radiation model per perturbation\n",
    "    rad_pert = climlab.radiation.RRTMG(name=f'Rad_pert_{k}',\n",
    "                                       state=state,\n",
    "                                       specific_humidity=qvs_lev,\n",
    "                                       albedo=0.3)\n",
    "    rad_pert.compute_diagnostics()\n",
    "    LW_pert = rad_pert.diagnostics['TdotLW'].copy()\n",
    "    SW_pert = rad_pert.diagnostics['TdotSW'].copy()\n",
    "\n",
    "    # Compute kernel column (response at all levels to impulse at level k)\n",
    "    kernel_LW[:, k] = (LW_pert - LW_ref)\n",
    "    kernel_SW[:, k] = (SW_pert - SW_ref)\n",
    "    \n",
    "# === Step 7: Plot total radiative response kernel ===\n",
    "fig, axs = plt.subplots(1, 2, figsize=(10, 5), sharex=True, sharey=True)\n",
    "for ax in axs:\n",
    "    ax.set_aspect('equal')\n",
    "\n",
    "cs1 = axs[0].pcolormesh(p_lev, p_lev, (kernel_LW), cmap='RdBu_r',\n",
    "                     vmin=-0.5, vmax=0.5)\n",
    "cs2 = axs[1].pcolormesh(p_lev, p_lev, (kernel_SW), cmap='RdBu_r',\n",
    "                     vmin=-0.5, vmax=0.5)\n",
    "cbar = fig.colorbar(cs1, ax=axs)\n",
    "\n",
    "ax.set_ylim([1000, 100])\n",
    "ax.set_xlim([1000, 100])\n",
    "#plt.contour(p_levels, p_levels, (kernel_LW + kernel_SW)*1e-3, levels=[0,0.001],color='k')\n",
    "axs[0].set_xlabel('Perturbation level [hPa]')\n",
    "axs[0].set_ylabel('Response level [hPa]')\n",
    "axs[0].set_title('R_LW from qv [K/day per -20%RH]')\n",
    "axs[1].set_title('R_SW from qv [K/day per -20%RH]')"
   ]
  }
 ],
 "metadata": {
  "kernelspec": {
   "display_name": "climlab_env",
   "language": "python",
   "name": "python3"
  },
  "language_info": {
   "codemirror_mode": {
    "name": "ipython",
    "version": 3
   },
   "file_extension": ".py",
   "mimetype": "text/x-python",
   "name": "python",
   "nbconvert_exporter": "python",
   "pygments_lexer": "ipython3",
   "version": "3.10.18"
  }
 },
 "nbformat": 4,
 "nbformat_minor": 5
}
